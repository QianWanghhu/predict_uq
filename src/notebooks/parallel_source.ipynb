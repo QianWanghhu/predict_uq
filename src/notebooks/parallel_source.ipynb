{
 "cells": [
  {
   "cell_type": "markdown",
   "metadata": {},
   "source": [
    "## Parallel Processing"
   ]
  },
  {
   "cell_type": "markdown",
   "metadata": {},
   "source": [
    "Launching multiple copies if Venner command line using veneer-py\n"
   ]
  },
  {
   "cell_type": "markdown",
   "metadata": {},
   "source": [
    "Running simulations in parallel"
   ]
  },
  {
   "cell_type": "code",
   "execution_count": 1,
   "metadata": {},
   "outputs": [
    {
     "ename": "ModuleNotFoundError",
     "evalue": "No module named 'chaospy'",
     "output_type": "error",
     "traceback": [
      "\u001b[1;31m---------------------------------------------------------------------------\u001b[0m",
      "\u001b[1;31mModuleNotFoundError\u001b[0m                       Traceback (most recent call last)",
      "\u001b[1;32m<ipython-input-1-1c92aa9bf092>\u001b[0m in \u001b[0;36m<module>\u001b[1;34m\u001b[0m\n\u001b[0;32m      2\u001b[0m \u001b[1;32mimport\u001b[0m \u001b[0mnumpy\u001b[0m \u001b[1;32mas\u001b[0m \u001b[0mnp\u001b[0m\u001b[1;33m\u001b[0m\u001b[1;33m\u001b[0m\u001b[0m\n\u001b[0;32m      3\u001b[0m \u001b[1;32mimport\u001b[0m \u001b[0mpandas\u001b[0m \u001b[1;32mas\u001b[0m \u001b[0mpd\u001b[0m\u001b[1;33m\u001b[0m\u001b[1;33m\u001b[0m\u001b[0m\n\u001b[1;32m----> 4\u001b[1;33m \u001b[1;32mimport\u001b[0m \u001b[0mchaospy\u001b[0m \u001b[1;32mas\u001b[0m \u001b[0mcp\u001b[0m\u001b[1;33m\u001b[0m\u001b[1;33m\u001b[0m\u001b[0m\n\u001b[0m\u001b[0;32m      5\u001b[0m \u001b[1;32mimport\u001b[0m \u001b[0mmatplotlib\u001b[0m\u001b[1;33m.\u001b[0m\u001b[0mpyplot\u001b[0m \u001b[1;32mas\u001b[0m \u001b[0mplt\u001b[0m\u001b[1;33m\u001b[0m\u001b[1;33m\u001b[0m\u001b[0m\n\u001b[0;32m      6\u001b[0m \u001b[1;31m# import SALib\u001b[0m\u001b[1;33m\u001b[0m\u001b[1;33m\u001b[0m\u001b[1;33m\u001b[0m\u001b[0m\n",
      "\u001b[1;31mModuleNotFoundError\u001b[0m: No module named 'chaospy'"
     ]
    }
   ],
   "source": [
    "import veneer \n",
    "import numpy as np\n",
    "import pandas as pd\n",
    "import chaospy as cp\n",
    "import matplotlib.pyplot as plt\n",
    "# import SALib\n",
    "import SALib\n",
    "from SALib.sample import sobol_sequence\n",
    "%matplotlib inline"
   ]
  },
  {
   "cell_type": "code",
   "execution_count": null,
   "metadata": {
    "tags": []
   },
   "outputs": [],
   "source": [
    "%load_ext autoreload\n",
    "%autoreload 2\n",
    "import source_runner as sr\n",
    "from source_runner import *"
   ]
  },
  {
   "cell_type": "code",
   "execution_count": 3,
   "metadata": {},
   "outputs": [],
   "source": [
    "#### Run this to improve model performance, mainly through parallel computing. These can also be modified through Source UI\n",
    "def configure_options(self,options):\n",
    "    lines = [\"# Generated Script\",\"from Dynamic_SedNet.PluginSetup import DSScenarioDetails\"]\n",
    "    lines += [\"DSScenarioDetails.%s = %s\"%(k,v) for (k,v) in options.items()]\n",
    "    script = '\\n'.join(lines)\n",
    "    #print(script)\n",
    "    res = self.model._safe_run(script)"
   ]
  },
  {
   "cell_type": "code",
   "execution_count": 4,
   "metadata": {},
   "outputs": [],
   "source": [
    "from veneer.manage import create_command_line\n",
    "from veneer.manage import start,kill_all_now"
   ]
  },
  {
   "cell_type": "code",
   "execution_count": 18,
   "metadata": {},
   "outputs": [
    {
     "data": {
      "text/plain": [
       "WindowsPath('../veneer_cmd/FlowMatters.Source.VeneerCmd.exe')"
      ]
     },
     "execution_count": 18,
     "metadata": {},
     "output_type": "execute_result"
    }
   ],
   "source": [
    "veneer_install = 'd:/UserData/wangd/Source_files/Source 4.5.0.9189/Plugins/CommunityPlugins/'\n",
    "source_version = '4.5.0'\n",
    "cmd_directory = '../veneer_cmd'\n",
    "veneer_cmd = create_command_line(veneer_install,source_version,dest=cmd_directory)\n",
    "veneer_cmd"
   ]
  },
  {
   "cell_type": "code",
   "execution_count": 19,
   "metadata": {},
   "outputs": [
    {
     "name": "stdout",
     "output_type": "stream",
     "text": [
      "Starting ..\\veneer_cmd\\FlowMatters.Source.VeneerCmd.exe -p 9877 -s  \"D:\\UserData\\wangd\\Source_files\\MW Source proj files April2020\\RC10_MW_models\\models\\MW_BASE_RC10.rsproj\"\n",
      "[0] Loading plugins\n",
      "\n",
      "[0] Loaded .\\.\\FlowMatters.Source.Veneer.dll\n",
      "\n",
      "[0] Loaded .\\.\\CodeProjectWizardDemo.dll\n",
      "\n",
      "[0] Loaded .\\.\\Dynamic_SedNet.dll\n",
      "\n",
      "[0] Loaded .\\.\\GBR_DynSed_Extension.dll\n",
      "\n",
      "[0] Plugins loaded (4/4)\n",
      "\n",
      "[0] Opening project file: D:\\UserData\\wangd\\Source_files\\MW Source proj files April2020\\RC10_MW_models\\models\\MW_BASE_RC10.rsproj\n",
      "\n",
      "ERROR[0] log4net:ERROR Failed to find configuration section 'log4net' in the application's .config file. Check your .config file for the <log4net> and <configSections> elements. The configuration section should look like: <section name=\"log4net\" type=\"log4net.Config.Log4NetConfigurationSectionHandler,log4net\" />\n",
      "\n",
      "[0] Loading project\n",
      "\n",
      "[0] Project Loaded\n",
      "\n",
      "[0] RC10\n",
      "\n",
      "[0] RC10\n",
      "\n",
      "[0] [8:34:24 PM] Veneer, by Flow Matters: http://www.flowmatters.com.au\n",
      "\n",
      "[0] [8:34:24 PM] Started Source RESTful Service on port:9877\n",
      "\n",
      "Server 0 on port 9877 is ready\n",
      "[0] Server started. Ctrl-C to exit, or POST /shutdown command\n",
      "\n"
     ]
    }
   ],
   "source": [
    "project = 'D:/UserData/wangd/Source_files/MW Source proj files April2020/RC10_MW_models/models/MW_BASE_RC10.rsproj'\n",
    "# generate copies of servers\n",
    "num_copies=1\n",
    "first_port=9877\n",
    "processes, ports = start(project,n_instances=num_copies,ports=first_port,debug=True, remote=False, veneer_exe=veneer_cmd)\n",
    "vs = [veneer.Veneer(port=p) for p in ports]"
   ]
  },
  {
   "cell_type": "markdown",
   "metadata": {},
   "source": [
    "Configure model for runs"
   ]
  },
  {
   "cell_type": "markdown",
   "metadata": {},
   "source": [
    "#Start"
   ]
  },
  {
   "cell_type": "code",
   "execution_count": 20,
   "metadata": {},
   "outputs": [],
   "source": [
    "# set model configuration\n",
    "for v in vs:\n",
    "    configure_options(v,{'RunNetworksInParallel':True,'PreRunCatchments':True,'ParallelFlowPhase':True})\n",
    "    v.model.sourceScenarioOptions(\"PerformanceConfiguration\",\"ProcessCatchmentsInParallel\",True)\n",
    "    ### Run this to turn off dsednet reporting window\n",
    "    configure_options(v,{'ShowResultsAfterRun':False,'OverwriteResults':True})"
   ]
  },
  {
   "cell_type": "code",
   "execution_count": 21,
   "metadata": {},
   "outputs": [],
   "source": [
    "# Set model runs\n",
    "# Define start and end time, with a half year warmup period\n",
    "start_date = '01/07/1998'\n",
    "end_date = '30/06/2014'\n",
    "record_gauge = 'gauge_124001B_AndromacheRvJochheims'\n",
    "record_var = 'Constituents@Sediment - Fine@Downstream Flow Mass'\n",
    "filter_elements = set_filter(veneer, record_gauge, record_var)"
   ]
  },
  {
   "cell_type": "code",
   "execution_count": 22,
   "metadata": {},
   "outputs": [],
   "source": [
    "# Configuring recording and retrieving results\n",
    "ts_match_criteria = {'RecordingVariable':'Constituents@Sediment - Fine@Downstream Flow Mass',\n",
    "                    'NetworkElement':'gauge_124001B_OConnellRvStaffordsCrossing'}\n",
    "for v in vs:\n",
    "    v.configure_recording(enable=[ts_match_criteria])"
   ]
  },
  {
   "cell_type": "code",
   "execution_count": null,
   "metadata": {},
   "outputs": [],
   "source": []
  },
  {
   "cell_type": "markdown",
   "metadata": {},
   "source": [
    "#End"
   ]
  },
  {
   "cell_type": "markdown",
   "metadata": {},
   "source": [
    "Parameter process "
   ]
  },
  {
   "cell_type": "markdown",
   "metadata": {},
   "source": [
    "#Start"
   ]
  },
  {
   "cell_type": "code",
   "execution_count": 10,
   "metadata": {},
   "outputs": [],
   "source": [
    "# assign distributions to parameters\n",
    "param_file = '../input/parameter-corrected.csv'\n",
    "parameters = sr.load_parameter_file(param_file) \n",
    "# parameters.drop(axis=1, columns=parameters.columns[0], inplace=True)\n",
    "param_names, param_vename_dic, param_vename, param_types = sr.group_parameters(parameters)\n",
    "initial_params = get_initial_param_vals(vs[0], param_names, param_vename, param_vename_dic)"
   ]
  },
  {
   "cell_type": "code",
   "execution_count": 11,
   "metadata": {},
   "outputs": [
    {
     "data": {
      "text/html": [
       "<div>\n",
       "<style scoped>\n",
       "    .dataframe tbody tr th:only-of-type {\n",
       "        vertical-align: middle;\n",
       "    }\n",
       "\n",
       "    .dataframe tbody tr th {\n",
       "        vertical-align: top;\n",
       "    }\n",
       "\n",
       "    .dataframe thead th {\n",
       "        text-align: right;\n",
       "    }\n",
       "</style>\n",
       "<table border=\"1\" class=\"dataframe\">\n",
       "  <thead>\n",
       "    <tr style=\"text-align: right;\">\n",
       "      <th></th>\n",
       "      <th>Veneer_name</th>\n",
       "      <th>Veneer_location</th>\n",
       "      <th>min</th>\n",
       "      <th>max</th>\n",
       "      <th>upper</th>\n",
       "      <th>type</th>\n",
       "      <th>distribution</th>\n",
       "      <th>short_name</th>\n",
       "      <th>Unnamed: 8</th>\n",
       "    </tr>\n",
       "  </thead>\n",
       "  <tbody>\n",
       "    <tr>\n",
       "      <th>0</th>\n",
       "      <td>BankFullFlow</td>\n",
       "      <td>v.model.link.constituents</td>\n",
       "      <td>0.700</td>\n",
       "      <td>1.300</td>\n",
       "      <td>9999999</td>\n",
       "      <td>1</td>\n",
       "      <td>uniform</td>\n",
       "      <td>BFF</td>\n",
       "      <td>NaN</td>\n",
       "    </tr>\n",
       "    <tr>\n",
       "      <th>1</th>\n",
       "      <td>bankErosionCoeff</td>\n",
       "      <td>v.model.link.constituents</td>\n",
       "      <td>0.500</td>\n",
       "      <td>1.500</td>\n",
       "      <td>9999999</td>\n",
       "      <td>1</td>\n",
       "      <td>uniform</td>\n",
       "      <td>BEC</td>\n",
       "      <td>NaN</td>\n",
       "    </tr>\n",
       "    <tr>\n",
       "      <th>2</th>\n",
       "      <td>BankHeight_M</td>\n",
       "      <td>v.model.link.constituents</td>\n",
       "      <td>0.850</td>\n",
       "      <td>1.150</td>\n",
       "      <td>9999999</td>\n",
       "      <td>1</td>\n",
       "      <td>uniform</td>\n",
       "      <td>BHM</td>\n",
       "      <td>NaN</td>\n",
       "    </tr>\n",
       "    <tr>\n",
       "      <th>3</th>\n",
       "      <td>bankMgtFactor</td>\n",
       "      <td>v.model.link.constituents</td>\n",
       "      <td>0.900</td>\n",
       "      <td>1.100</td>\n",
       "      <td>9999999</td>\n",
       "      <td>1</td>\n",
       "      <td>uniform</td>\n",
       "      <td>BMF</td>\n",
       "      <td>NaN</td>\n",
       "    </tr>\n",
       "    <tr>\n",
       "      <th>4</th>\n",
       "      <td>eventMeanConcentration</td>\n",
       "      <td>v.model.catchment.generation</td>\n",
       "      <td>0.800</td>\n",
       "      <td>1.200</td>\n",
       "      <td>9999999</td>\n",
       "      <td>1</td>\n",
       "      <td>uniform</td>\n",
       "      <td>EMC</td>\n",
       "      <td>NaN</td>\n",
       "    </tr>\n",
       "    <tr>\n",
       "      <th>5</th>\n",
       "      <td>HillSlopeFinePerc</td>\n",
       "      <td>v.model.catchment.generation</td>\n",
       "      <td>0.950</td>\n",
       "      <td>1.050</td>\n",
       "      <td>100</td>\n",
       "      <td>1</td>\n",
       "      <td>uniform</td>\n",
       "      <td>HSFP</td>\n",
       "      <td>NaN</td>\n",
       "    </tr>\n",
       "    <tr>\n",
       "      <th>6</th>\n",
       "      <td>HillslopeFineSDR</td>\n",
       "      <td>v.model.catchment.generation</td>\n",
       "      <td>0.500</td>\n",
       "      <td>1.500</td>\n",
       "      <td>100</td>\n",
       "      <td>1</td>\n",
       "      <td>uniform</td>\n",
       "      <td>HFSDR</td>\n",
       "      <td>NaN</td>\n",
       "    </tr>\n",
       "    <tr>\n",
       "      <th>7</th>\n",
       "      <td>Load_Conversion_Factor</td>\n",
       "      <td>v.model.catchment.generation</td>\n",
       "      <td>0.900</td>\n",
       "      <td>1.000</td>\n",
       "      <td>1</td>\n",
       "      <td>1</td>\n",
       "      <td>uniform</td>\n",
       "      <td>LCF</td>\n",
       "      <td>NaN</td>\n",
       "    </tr>\n",
       "    <tr>\n",
       "      <th>8</th>\n",
       "      <td>RiparianVegPercent</td>\n",
       "      <td>v.model.link.constituents</td>\n",
       "      <td>0.900</td>\n",
       "      <td>1.100</td>\n",
       "      <td>100</td>\n",
       "      <td>1</td>\n",
       "      <td>uniform</td>\n",
       "      <td>RVP</td>\n",
       "      <td>NaN</td>\n",
       "    </tr>\n",
       "    <tr>\n",
       "      <th>9</th>\n",
       "      <td>sedBulkDensity</td>\n",
       "      <td>v.model.link.constituents</td>\n",
       "      <td>0.950</td>\n",
       "      <td>1.050</td>\n",
       "      <td>9999999</td>\n",
       "      <td>1</td>\n",
       "      <td>uniform</td>\n",
       "      <td>SBD</td>\n",
       "      <td>NaN</td>\n",
       "    </tr>\n",
       "    <tr>\n",
       "      <th>10</th>\n",
       "      <td>SoilErodibility</td>\n",
       "      <td>v.model.link.constituents</td>\n",
       "      <td>0.800</td>\n",
       "      <td>1.000</td>\n",
       "      <td>100</td>\n",
       "      <td>1</td>\n",
       "      <td>uniform</td>\n",
       "      <td>SE</td>\n",
       "      <td>NaN</td>\n",
       "    </tr>\n",
       "    <tr>\n",
       "      <th>11</th>\n",
       "      <td>SoilPercentFine</td>\n",
       "      <td>v.model.link.constituents</td>\n",
       "      <td>0.900</td>\n",
       "      <td>1.100</td>\n",
       "      <td>100</td>\n",
       "      <td>1</td>\n",
       "      <td>uniform</td>\n",
       "      <td>SPF</td>\n",
       "      <td>NaN</td>\n",
       "    </tr>\n",
       "    <tr>\n",
       "      <th>12</th>\n",
       "      <td>USLE_HSDR_Fine</td>\n",
       "      <td>v.model.catchment.generation</td>\n",
       "      <td>0.850</td>\n",
       "      <td>1.150</td>\n",
       "      <td>100</td>\n",
       "      <td>1</td>\n",
       "      <td>uniform</td>\n",
       "      <td>USLEHF</td>\n",
       "      <td>NaN</td>\n",
       "    </tr>\n",
       "    <tr>\n",
       "      <th>13</th>\n",
       "      <td>A3</td>\n",
       "      <td>v.model.catchment.generation</td>\n",
       "      <td>0.800</td>\n",
       "      <td>1.200</td>\n",
       "      <td>9999999</td>\n",
       "      <td>1</td>\n",
       "      <td>uniform</td>\n",
       "      <td>A3</td>\n",
       "      <td>NaN</td>\n",
       "    </tr>\n",
       "    <tr>\n",
       "      <th>14</th>\n",
       "      <td>RainThreshold</td>\n",
       "      <td>v.model.catchment.generation</td>\n",
       "      <td>0.800</td>\n",
       "      <td>1.200</td>\n",
       "      <td>9999999</td>\n",
       "      <td>1</td>\n",
       "      <td>uniform</td>\n",
       "      <td>RT</td>\n",
       "      <td>NaN</td>\n",
       "    </tr>\n",
       "    <tr>\n",
       "      <th>15</th>\n",
       "      <td>Beta</td>\n",
       "      <td>v.model.catchment.generation</td>\n",
       "      <td>0.800</td>\n",
       "      <td>1.200</td>\n",
       "      <td>9999999</td>\n",
       "      <td>1</td>\n",
       "      <td>uniform</td>\n",
       "      <td>Beta</td>\n",
       "      <td></td>\n",
       "    </tr>\n",
       "    <tr>\n",
       "      <th>16</th>\n",
       "      <td>LinkLength_M</td>\n",
       "      <td>v.model.link.constituents</td>\n",
       "      <td>0.995</td>\n",
       "      <td>1.005</td>\n",
       "      <td>9999999</td>\n",
       "      <td>1</td>\n",
       "      <td>uniform</td>\n",
       "      <td>LLM</td>\n",
       "      <td>NaN</td>\n",
       "    </tr>\n",
       "    <tr>\n",
       "      <th>17</th>\n",
       "      <td>Link_Slope</td>\n",
       "      <td>v.model.link.constituents</td>\n",
       "      <td>0.950</td>\n",
       "      <td>1.050</td>\n",
       "      <td>9999999</td>\n",
       "      <td>1</td>\n",
       "      <td>uniform</td>\n",
       "      <td>LS</td>\n",
       "      <td>NaN</td>\n",
       "    </tr>\n",
       "    <tr>\n",
       "      <th>18</th>\n",
       "      <td>LongTermAvDailyFlow</td>\n",
       "      <td>v.model.link.constituents</td>\n",
       "      <td>0.900</td>\n",
       "      <td>1.100</td>\n",
       "      <td>9999999</td>\n",
       "      <td>1</td>\n",
       "      <td>uniform</td>\n",
       "      <td>LTADF</td>\n",
       "      <td>NaN</td>\n",
       "    </tr>\n",
       "    <tr>\n",
       "      <th>19</th>\n",
       "      <td>Gully_Management_Practice_Factor</td>\n",
       "      <td>v.model.catchment.generation</td>\n",
       "      <td>0.900</td>\n",
       "      <td>1.100</td>\n",
       "      <td>9999999</td>\n",
       "      <td>1</td>\n",
       "      <td>uniform</td>\n",
       "      <td>GMPF</td>\n",
       "      <td>NaN</td>\n",
       "    </tr>\n",
       "    <tr>\n",
       "      <th>20</th>\n",
       "      <td>Gully_SDR_Fine</td>\n",
       "      <td>v.model.catchment.generation</td>\n",
       "      <td>0.900</td>\n",
       "      <td>1.000</td>\n",
       "      <td>9999999</td>\n",
       "      <td>1</td>\n",
       "      <td>uniform</td>\n",
       "      <td>GSDRF</td>\n",
       "      <td>NaN</td>\n",
       "    </tr>\n",
       "    <tr>\n",
       "      <th>21</th>\n",
       "      <td>maxRiparianVegEffectiveness</td>\n",
       "      <td>v.model.link.constituents</td>\n",
       "      <td>0.950</td>\n",
       "      <td>1.050</td>\n",
       "      <td>9999999</td>\n",
       "      <td>1</td>\n",
       "      <td>uniform</td>\n",
       "      <td>MRVE</td>\n",
       "      <td>NaN</td>\n",
       "    </tr>\n",
       "  </tbody>\n",
       "</table>\n",
       "</div>"
      ],
      "text/plain": [
       "                         Veneer_name               Veneer_location    min  \\\n",
       "0                       BankFullFlow     v.model.link.constituents  0.700   \n",
       "1                   bankErosionCoeff     v.model.link.constituents  0.500   \n",
       "2                       BankHeight_M     v.model.link.constituents  0.850   \n",
       "3                      bankMgtFactor     v.model.link.constituents  0.900   \n",
       "4             eventMeanConcentration  v.model.catchment.generation  0.800   \n",
       "5                  HillSlopeFinePerc  v.model.catchment.generation  0.950   \n",
       "6                   HillslopeFineSDR  v.model.catchment.generation  0.500   \n",
       "7             Load_Conversion_Factor  v.model.catchment.generation  0.900   \n",
       "8                 RiparianVegPercent     v.model.link.constituents  0.900   \n",
       "9                     sedBulkDensity     v.model.link.constituents  0.950   \n",
       "10                   SoilErodibility     v.model.link.constituents  0.800   \n",
       "11                   SoilPercentFine     v.model.link.constituents  0.900   \n",
       "12                    USLE_HSDR_Fine  v.model.catchment.generation  0.850   \n",
       "13                                A3  v.model.catchment.generation  0.800   \n",
       "14                     RainThreshold  v.model.catchment.generation  0.800   \n",
       "15                              Beta  v.model.catchment.generation  0.800   \n",
       "16                      LinkLength_M     v.model.link.constituents  0.995   \n",
       "17                        Link_Slope     v.model.link.constituents  0.950   \n",
       "18               LongTermAvDailyFlow     v.model.link.constituents  0.900   \n",
       "19  Gully_Management_Practice_Factor  v.model.catchment.generation  0.900   \n",
       "20                    Gully_SDR_Fine  v.model.catchment.generation  0.900   \n",
       "21       maxRiparianVegEffectiveness     v.model.link.constituents  0.950   \n",
       "\n",
       "      max    upper  type distribution short_name Unnamed: 8  \n",
       "0   1.300  9999999     1      uniform        BFF        NaN  \n",
       "1   1.500  9999999     1      uniform        BEC        NaN  \n",
       "2   1.150  9999999     1      uniform        BHM        NaN  \n",
       "3   1.100  9999999     1      uniform        BMF        NaN  \n",
       "4   1.200  9999999     1      uniform        EMC        NaN  \n",
       "5   1.050      100     1      uniform       HSFP        NaN  \n",
       "6   1.500      100     1      uniform      HFSDR        NaN  \n",
       "7   1.000        1     1      uniform        LCF        NaN  \n",
       "8   1.100      100     1      uniform        RVP        NaN  \n",
       "9   1.050  9999999     1      uniform        SBD        NaN  \n",
       "10  1.000      100     1      uniform         SE        NaN  \n",
       "11  1.100      100     1      uniform        SPF        NaN  \n",
       "12  1.150      100     1      uniform     USLEHF        NaN  \n",
       "13  1.200  9999999     1      uniform         A3        NaN  \n",
       "14  1.200  9999999     1      uniform         RT        NaN  \n",
       "15  1.200  9999999     1      uniform       Beta             \n",
       "16  1.005  9999999     1      uniform        LLM        NaN  \n",
       "17  1.050  9999999     1      uniform         LS        NaN  \n",
       "18  1.100  9999999     1      uniform      LTADF        NaN  \n",
       "19  1.100  9999999     1      uniform       GMPF        NaN  \n",
       "20  1.000  9999999     1      uniform      GSDRF        NaN  \n",
       "21  1.050  9999999     1      uniform       MRVE        NaN  "
      ]
     },
     "execution_count": 11,
     "metadata": {},
     "output_type": "execute_result"
    }
   ],
   "source": [
    "parameters"
   ]
  },
  {
   "cell_type": "markdown",
   "metadata": {},
   "source": [
    "Generate samples with Sobol' sampling"
   ]
  },
  {
   "cell_type": "code",
   "execution_count": 12,
   "metadata": {},
   "outputs": [],
   "source": [
    "len_params = len(parameters)\n",
    "num_runs = 552\n",
    "sobol_se = sobol_sequence.sample(num_runs + 1, len_params)\n",
    "# project the sampling results onto the parameter space\n",
    "for i in range(len_params):\n",
    "    blower, bupper = parameters.loc[i, 'min'], parameters.loc[i, 'max']\n",
    "    sobol_se[:, i] = sobol_se[:, i] * (bupper-blower) + blower\n",
    "nodes = np.round(sobol_se[1:], 4)"
   ]
  },
  {
   "cell_type": "code",
   "execution_count": 13,
   "metadata": {},
   "outputs": [],
   "source": [
    "f_dir = '../output/Run0915/'\n",
    "f_name = 'samples.csv'\n",
    "df = pd.DataFrame(data=nodes, index=np.arange(nodes.shape[0]), columns=parameters.loc[:, 'Veneer_name'])\n",
    "df.index.name = 'index'\n",
    "df.to_csv(f'{f_dir}{f_name}', index=True)"
   ]
  },
  {
   "cell_type": "code",
   "execution_count": 28,
   "metadata": {},
   "outputs": [],
   "source": [
    "# import samples\n",
    "f_dir = '../output/Run0915/'\n",
    "f_name = 'samples.csv'\n",
    "nodes = pd.read_csv('{}{}'.format(f_dir, f_name), index_col='index')\n",
    "nodes = nodes.values"
   ]
  },
  {
   "cell_type": "markdown",
   "metadata": {},
   "source": [
    "#End"
   ]
  },
  {
   "cell_type": "code",
   "execution_count": 27,
   "metadata": {},
   "outputs": [],
   "source": [
    "# create the parameter dataset with values adjusted\n",
    "# assign distributions to parameters\n",
    "# param_file = '../input/upper v1.csv'\n",
    "# parameters = sr.load_parameter_file(param_file) \n",
    "# parameters = parameters[:-1]\n",
    "# len_params = len(parameters)\n",
    "# # process parameters and store initial values\n",
    "# param_names, param_vename_dic, param_vename, param_types = sr.group_parameters(parameters)\n",
    "# initial_params = get_initial_param_vals(vs[0], param_names, param_vename, param_vename_dic)\n",
    "# # import samples\n",
    "# fname = '../output/MW_results/samples.csv'\n",
    "# samples = pd.read_csv(fname, index_col='id')\n",
    "# samples = samples.T.values[:, -100:]\n",
    "# # for i in range(index_adjust.shape[0]):\n",
    "# #     ind_temp = index_adjust[i]\n",
    "# #     samples[ind_temp, :] = np.product(samples[[ind_temp, *index_linear], :], axis=0)\n",
    "# #     samples[index_linear[i], :] = [1]\n",
    "\n",
    "# samples[19] = np.product(samples[[19, 20], :], axis=0)\n",
    "# samples[6] = np.product(samples[[5, 6, 7], :], axis=0)\n",
    "# samples[1, :] = np.product(samples[[0, 1, 2, 3, 9, 10, 11, 16, 17, 18], :], axis=0)\n",
    "# # samples[1, :] = np.product(samples[[0, 1, 2], :], axis=0)\n",
    "# cols_delete = [0, 2, 3, 9, 10, 11, 16, 17, 18, 5, 7, 20]\n",
    "# samples[cols_delete, :] = [1]\n",
    "        \n",
    "# nodes = samples\n",
    "# num_runs = nodes.shape[1]\n",
    "# create samples\n",
    "# nodes = np.ones((22, 50))\n",
    "# nodes[1, :] = np.round(np.random.uniform(0.5, 1.5, size=nodes.shape[1]), 4)\n",
    "# num_runs = nodes.shape[1]\n",
    "# nodes = np.delete(nodes, cols_delete, axis=0)\n",
    "# nodes.shape"
   ]
  },
  {
   "cell_type": "markdown",
   "metadata": {},
   "source": [
    "#End Adapting the parameters"
   ]
  },
  {
   "cell_type": "code",
   "execution_count": 29,
   "metadata": {},
   "outputs": [],
   "source": [
    "nodes = nodes[325:327]"
   ]
  },
  {
   "cell_type": "code",
   "execution_count": 30,
   "metadata": {},
   "outputs": [],
   "source": [
    "num_runs = nodes.shape[0]\n",
    "len_params = nodes.shape[1]"
   ]
  },
  {
   "cell_type": "code",
   "execution_count": 31,
   "metadata": {},
   "outputs": [
    {
     "data": {
      "text/plain": [
       "(2, 22)"
      ]
     },
     "execution_count": 31,
     "metadata": {},
     "output_type": "execute_result"
    }
   ],
   "source": [
    "nodes.shape"
   ]
  },
  {
   "cell_type": "code",
   "execution_count": 32,
   "metadata": {},
   "outputs": [
    {
     "name": "stdout",
     "output_type": "stream",
     "text": [
      "Completed 2 runs\n",
      "Wall time: 2min 41s\n"
     ]
    }
   ],
   "source": [
    "%%time\n",
    "tss_results = []\n",
    "total_runs = 0\n",
    "group_loops = np.floor_divide(num_runs, num_copies) + 1\n",
    "# tss_results = tss_results[:, 0:80]\n",
    "for i in range(group_loops):\n",
    "    group_run_responses = []\n",
    "    if i == (group_loops - 1):\n",
    "        num_copies_loop = (num_runs - i * num_copies)\n",
    "    else:\n",
    "        num_copies_loop = num_copies\n",
    "    for j in range(num_copies_loop):\n",
    "        total_runs += 1\n",
    "        scaling_factor_index =  i * num_copies + j\n",
    "#         print(scaling_factor_index)\n",
    "        if scaling_factor_index >= num_runs:\n",
    "            break\n",
    "        scaling_factor = nodes[scaling_factor_index, :]\n",
    "#         import ipdb\n",
    "#         ipdb.set_trace()\n",
    "        v= vs[j]\n",
    "        v.drop_all_runs()\n",
    "        \n",
    "        # set scaling_factor to the current model\n",
    "        for k in range(len_params):\n",
    "            name = parameters.Veneer_name[k]\n",
    "            param_new_factor = scaling_factor[k]\n",
    "            param_value_ini = initial_params[name]\n",
    "            if param_types[k] == 0:\n",
    "                param_value_new = [param_new_factor for value in initial_params[name]]\n",
    "            else:\n",
    "                param_value_new = [param_new_factor * value for value in initial_params[name]]\n",
    "            #set parameter values\n",
    "            if name in param_vename_dic[param_vename[0]]:\n",
    "                assert v.model.catchment.generation.set_param_values(name, param_value_new, fromList = True)\n",
    "            if name in  param_vename_dic[param_vename[1]]:\n",
    "                assert v.model.link.constituents.set_param_values(name, param_value_new,fromList = True)\n",
    "            if name in  param_vename_dic[param_vename[2]]:\n",
    "                assert v.model.node.set_param_values(name, param_value_new,fromList = True)\n",
    "            if name in  param_vename_dic[param_vename[3]]:\n",
    "                assert v.model.link.routing.set_param_values(name, param_value_new,fromList = True)\n",
    "\n",
    "        response = v.run_model(start=start_date, end=end_date, run_async=True)\n",
    "        group_run_responses.append(response)\n",
    "        \n",
    "    # Retrieve the time series of fine sediment mass at the interested gauge\n",
    "    for j in range(num_copies_loop):\n",
    "        scaling_factor_index =  i * num_copies + j\n",
    "        if scaling_factor_index >= (num_runs):\n",
    "            break\n",
    "            \n",
    "        v = vs[j]\n",
    "        r = group_run_responses[j]   \n",
    "        code = r.getresponse().getcode() # wait until the job finished   \n",
    "        run_results = v.retrieve_multiple_time_series(criteria=ts_match_criteria, name_fn=veneer.name_for_variable)\n",
    "        # store the daily results and the index of sampling\n",
    "        result_np =  run_results.values\n",
    "        try:\n",
    "            tss_results = np.hstack((tss_results, result_np))\n",
    "        except (ValueError, UnboundLocalError) as e:\n",
    "            timeframe = np.array(run_results.index.date.tolist()).reshape(len(run_results.index), 1)\n",
    "            tss_results = np.hstack((timeframe, result_np))\n",
    "    if ((total_runs % 100) == 0 | (total_runs == num_runs)):\n",
    "        num_write = tss_results.shape[1]\n",
    "        np.savetxt('{}{}{}'.format(f_dir, str(total_runs), '_Tss_124001B.csv'), \n",
    "           tss_results, delimiter=',', newline='\\n',\n",
    "           header=\", \".join([\"Date\"] + [str(i+1) for i in range(num_write)]), fmt='%s')\n",
    "        tss_results = []\n",
    "    veneer.log('Completed %d runs'%total_runs)"
   ]
  },
  {
   "cell_type": "code",
   "execution_count": 26,
   "metadata": {},
   "outputs": [
    {
     "data": {
      "text/plain": [
       "60"
      ]
     },
     "execution_count": 26,
     "metadata": {},
     "output_type": "execute_result"
    }
   ],
   "source": [
    "total_runs"
   ]
  },
  {
   "cell_type": "code",
   "execution_count": 33,
   "metadata": {},
   "outputs": [],
   "source": [
    "num_write = tss_results.shape[1]\n",
    "np.savetxt('{}{}{}'.format(f_dir, str(total_runs), '_Tss_124001B.csv'), \n",
    "   tss_results, delimiter=',', newline='\\n',\n",
    "   header=\", \".join([\"Date\"] + [str(i+1) for i in range(num_write)]), fmt='%s')"
   ]
  },
  {
   "cell_type": "code",
   "execution_count": 70,
   "metadata": {},
   "outputs": [],
   "source": [
    "num_write = tss_results.shape[1]\n",
    "# f_dir = '../output/linear_dep/'\n",
    "np.savetxt('{}{}'.format(f_dir, 'temp_477.csv'), \n",
    "    tss_results, delimiter=',', newline='\\n',\n",
    "    header=\", \".join([\"Date\"] + [str(i+1) for i in range(num_write)]), fmt='%s')"
   ]
  },
  {
   "cell_type": "code",
   "execution_count": null,
   "metadata": {},
   "outputs": [],
   "source": [
    "%%time\n",
    "for v in vs:    \n",
    "    for k in range(len_params):\n",
    "        name = parameters.Veneer_name[k]\n",
    "        ini_param_val = initial_params[name]\n",
    "        if name in param_vename_dic[param_vename[0]]: \n",
    "            v.model.catchment.generation.set_param_values(name, ini_param_val, fromList=True)\n",
    "        if name in param_vename_dic[param_vename[1]]:\n",
    "            v.model.link.constituents.set_param_values(name, ini_param_val, fromList=True)\n",
    "        if name in param_vename_dic[param_vename[2]]:\n",
    "            v.model.node.set_param_values(name, ini_param_val, fromList=True)\n",
    "        if name in param_vename_dic[param_vename[3]]:\n",
    "            v.model.link.routing.set_param_values(name, ini_param_val, fromList=True)\n",
    "        if name in param_vename_dic[param_vename[4]]:\n",
    "            v.model.node.constituents.set_param_values(name, ini_param_val, fromList=True, \n",
    "                                        node_types=['StorageNodeModel'],aspect='model')"
   ]
  },
  {
   "cell_type": "code",
   "execution_count": null,
   "metadata": {},
   "outputs": [],
   "source": [
    "# Terminate the veneer servers\n",
    "kill_all_now(processes)"
   ]
  },
  {
   "cell_type": "code",
   "execution_count": null,
   "metadata": {},
   "outputs": [],
   "source": []
  }
 ],
 "metadata": {
  "kernelspec": {
   "display_name": "python(oed)",
   "language": "python",
   "name": "oed"
  },
  "language_info": {
   "codemirror_mode": {
    "name": "ipython",
    "version": 3
   },
   "file_extension": ".py",
   "mimetype": "text/x-python",
   "name": "python",
   "nbconvert_exporter": "python",
   "pygments_lexer": "ipython3",
   "version": "3.7.1"
  }
 },
 "nbformat": 4,
 "nbformat_minor": 4
}
